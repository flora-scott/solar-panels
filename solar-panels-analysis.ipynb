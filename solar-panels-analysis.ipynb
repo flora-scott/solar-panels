{
 "cells": [
  {
   "cell_type": "code",
   "execution_count": 79,
   "id": "539b900d",
   "metadata": {},
   "outputs": [],
   "source": [
    "# Import packages\n",
    "import pandas as pd\n",
    "import numpy as np\n",
    "import os\n",
    "import pdfplumber\n",
    "import re"
   ]
  },
  {
   "cell_type": "code",
   "execution_count": 3,
   "id": "8c71b496",
   "metadata": {},
   "outputs": [],
   "source": [
    "# Define a function to read in text from pdfs\n",
    "\n",
    "def extract_text_from_pdf(pdf_path):\n",
    "    with pdfplumber.open(pdf_path) as pdf:\n",
    "        text = \"\"\n",
    "        for page in pdf.pages:\n",
    "            text += page.extract_text()\n",
    "    return text"
   ]
  },
  {
   "cell_type": "code",
   "execution_count": 122,
   "id": "5a7cd907",
   "metadata": {},
   "outputs": [],
   "source": [
    "# Create a function that returns matched patterns\n",
    "def extract_text(text, pattern):\n",
    "    match = re.findall(pattern, text)\n",
    "    #return match[0] if match else np.nan\n",
    "    return match if len(match)>1 else match[0] if len(match) else np.nan"
   ]
  },
  {
   "cell_type": "code",
   "execution_count": 113,
   "id": "0db14164",
   "metadata": {},
   "outputs": [],
   "source": [
    "# Set the patterns\n",
    "number_pattern = r\"Invoice Number:\\s*(\\d*)\"\n",
    "    \n",
    "date_pattern = r\"Invoice Date:\\s*(\\b\\d{2}[/\\-.]\\d{2}[/\\-.]\\d{4}\\b)\"\n",
    "    \n",
    "deemed_amount_pattern = r\"Deemed.* £?(\\d{1,4}\\.\\d{2})\"\n",
    "\n",
    "generation_amount_pattern = r\"Generation.* £?(\\d{1,4}\\.\\d{2})\"\n",
    "\n",
    "total_amount_pattern = r\"Total.* £?(\\d{1,4}\\.\\d{2})\"\n",
    "\n",
    "patterns = [number_pattern, date_pattern, deemed_amount_pattern,\n",
    "            generation_amount_pattern, total_amount_pattern]"
   ]
  },
  {
   "cell_type": "code",
   "execution_count": 5,
   "id": "2ea82ec7",
   "metadata": {},
   "outputs": [],
   "source": [
    "# Change the wd to read in the data files\n",
    "os.chdir('./Data')"
   ]
  },
  {
   "cell_type": "code",
   "execution_count": 6,
   "id": "793668ec",
   "metadata": {},
   "outputs": [],
   "source": [
    "# Save the file names to a variable\n",
    "file_names = os.listdir()"
   ]
  },
  {
   "cell_type": "code",
   "execution_count": 126,
   "id": "30076d99",
   "metadata": {},
   "outputs": [],
   "source": [
    "# Import all of the files and add the date\n",
    "\n",
    "# Create a df to save data\n",
    "solar = pd.DataFrame(columns=['file', 'invoice_number', 'invoice_date', \n",
    "                              'deemed_amount', 'generation_amount', 'total_amount'])\n",
    "\n",
    "# Iterate through the files\n",
    "for file in file_names:\n",
    "    # Open the files using the pdf function\n",
    "    text = extract_text_from_pdf(file)\n",
    "    # Extract the data using the text function\n",
    "    #number, date, deemed, generation, total = extract_data(text)\n",
    "    new_row = [extract_text(text, i) for i in patterns]\n",
    "    \n",
    "    #new_row = [file, number, date, deemed, generation, total]\n",
    "    solar.loc[len(solar)] = [file] + new_row\n",
    "    \n",
    "\n",
    "# Set the date field to a date field\n",
    "solar['invoice_date'] = pd.to_datetime(solar['invoice_date'], format='%d.%m.%Y')\n",
    "# Sort by invoice date\n",
    "solar = solar.sort_values(by = 'invoice_date')\n",
    "# Reset the index\n",
    "solar = solar.reset_index()"
   ]
  },
  {
   "cell_type": "code",
   "execution_count": 128,
   "id": "2bc46db0",
   "metadata": {},
   "outputs": [
    {
     "data": {
      "text/html": [
       "<div>\n",
       "<style scoped>\n",
       "    .dataframe tbody tr th:only-of-type {\n",
       "        vertical-align: middle;\n",
       "    }\n",
       "\n",
       "    .dataframe tbody tr th {\n",
       "        vertical-align: top;\n",
       "    }\n",
       "\n",
       "    .dataframe thead th {\n",
       "        text-align: right;\n",
       "    }\n",
       "</style>\n",
       "<table border=\"1\" class=\"dataframe\">\n",
       "  <thead>\n",
       "    <tr style=\"text-align: right;\">\n",
       "      <th></th>\n",
       "      <th>index</th>\n",
       "      <th>file</th>\n",
       "      <th>invoice_number</th>\n",
       "      <th>invoice_date</th>\n",
       "      <th>deemed_amount</th>\n",
       "      <th>generation_amount</th>\n",
       "      <th>total_amount</th>\n",
       "    </tr>\n",
       "  </thead>\n",
       "  <tbody>\n",
       "    <tr>\n",
       "      <th>0</th>\n",
       "      <td>36</td>\n",
       "      <td>FIT_803B2C15112010_181110_113933.pdf</td>\n",
       "      <td>1900005075</td>\n",
       "      <td>2010-11-16</td>\n",
       "      <td>9.08</td>\n",
       "      <td>249.86</td>\n",
       "      <td>258.94</td>\n",
       "    </tr>\n",
       "    <tr>\n",
       "      <th>1</th>\n",
       "      <td>29</td>\n",
       "      <td>FIT_803B2C24022011_020311_110050.pdf</td>\n",
       "      <td>1900001602</td>\n",
       "      <td>2011-02-24</td>\n",
       "      <td>4.76</td>\n",
       "      <td>130.92</td>\n",
       "      <td>135.68</td>\n",
       "    </tr>\n",
       "    <tr>\n",
       "      <th>2</th>\n",
       "      <td>6</td>\n",
       "      <td>FIT_803B2C10052011_130511_081522.pdf</td>\n",
       "      <td>1900004998</td>\n",
       "      <td>2011-05-12</td>\n",
       "      <td>1.92</td>\n",
       "      <td>52.86</td>\n",
       "      <td>54.78</td>\n",
       "    </tr>\n",
       "    <tr>\n",
       "      <th>3</th>\n",
       "      <td>28</td>\n",
       "      <td>FIT_803B2C11082011_120811_094035.pdf</td>\n",
       "      <td>1900009345</td>\n",
       "      <td>2011-08-11</td>\n",
       "      <td>10.52</td>\n",
       "      <td>292.51</td>\n",
       "      <td>303.03</td>\n",
       "    </tr>\n",
       "    <tr>\n",
       "      <th>4</th>\n",
       "      <td>45</td>\n",
       "      <td>FIT_803B2C21112011_211111_145211.pdf</td>\n",
       "      <td>1900015792</td>\n",
       "      <td>2011-11-21</td>\n",
       "      <td>11.70</td>\n",
       "      <td>326.92</td>\n",
       "      <td>338.62</td>\n",
       "    </tr>\n",
       "  </tbody>\n",
       "</table>\n",
       "</div>"
      ],
      "text/plain": [
       "   index                                  file invoice_number invoice_date  \\\n",
       "0     36  FIT_803B2C15112010_181110_113933.pdf     1900005075   2010-11-16   \n",
       "1     29  FIT_803B2C24022011_020311_110050.pdf     1900001602   2011-02-24   \n",
       "2      6  FIT_803B2C10052011_130511_081522.pdf     1900004998   2011-05-12   \n",
       "3     28  FIT_803B2C11082011_120811_094035.pdf     1900009345   2011-08-11   \n",
       "4     45  FIT_803B2C21112011_211111_145211.pdf     1900015792   2011-11-21   \n",
       "\n",
       "  deemed_amount generation_amount total_amount  \n",
       "0          9.08            249.86       258.94  \n",
       "1          4.76            130.92       135.68  \n",
       "2          1.92             52.86        54.78  \n",
       "3         10.52            292.51       303.03  \n",
       "4         11.70            326.92       338.62  "
      ]
     },
     "execution_count": 128,
     "metadata": {},
     "output_type": "execute_result"
    }
   ],
   "source": [
    "# Display the head of the dataframe\n",
    "solar.head()"
   ]
  },
  {
   "cell_type": "code",
   "execution_count": null,
   "id": "6e765841",
   "metadata": {},
   "outputs": [],
   "source": []
  }
 ],
 "metadata": {
  "kernelspec": {
   "display_name": "Python 3 (ipykernel)",
   "language": "python",
   "name": "python3"
  },
  "language_info": {
   "codemirror_mode": {
    "name": "ipython",
    "version": 3
   },
   "file_extension": ".py",
   "mimetype": "text/x-python",
   "name": "python",
   "nbconvert_exporter": "python",
   "pygments_lexer": "ipython3",
   "version": "3.9.13"
  }
 },
 "nbformat": 4,
 "nbformat_minor": 5
}
