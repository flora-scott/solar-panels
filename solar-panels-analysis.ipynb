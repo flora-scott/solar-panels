{
 "cells": [
  {
   "cell_type": "code",
   "execution_count": 139,
   "id": "539b900d",
   "metadata": {},
   "outputs": [],
   "source": [
    "# Import packages\n",
    "import pandas as pd\n",
    "import numpy \n",
    "import os\n",
    "import pdfplumber\n",
    "import re"
   ]
  },
  {
   "cell_type": "code",
   "execution_count": 140,
   "id": "8c71b496",
   "metadata": {},
   "outputs": [],
   "source": [
    "# Define a function to read in text from pdfs\n",
    "\n",
    "def extract_text_from_pdf(pdf_path):\n",
    "    with pdfplumber.open(pdf_path) as pdf:\n",
    "        text = \"\"\n",
    "        for page in pdf.pages:\n",
    "            text += page.extract_text()\n",
    "    return text"
   ]
  },
  {
   "cell_type": "code",
   "execution_count": 141,
   "id": "3163bf13",
   "metadata": {},
   "outputs": [],
   "source": [
    "# Define a function to extract the relevant data\n",
    "\n",
    "def extract_data(text):\n",
    "    number_pattern = r\"Invoice Number:\\s*(\\d*)\"\n",
    "    number = re.findall(number_pattern,text)[0]\n",
    "    \n",
    "    date_pattern = r\"Invoice Date:\\s*(\\b\\d{2}[/\\-.]\\d{2}[/\\-.]\\d{4}\\b)\"\n",
    "    date = re.findall(date_pattern,text)[0]\n",
    "    \n",
    "    total_pattern = r\"Total \\w*\\s*(£\\d{1,4}\\.\\d{2})\"\n",
    "    total = re.findall(total_pattern,text)[0]\n",
    "    \n",
    "    return number, date, total"
   ]
  },
  {
   "cell_type": "code",
   "execution_count": 142,
   "id": "2ea82ec7",
   "metadata": {},
   "outputs": [],
   "source": [
    "# Change the wd to read in the data files\n",
    "os.chdir('./Data')"
   ]
  },
  {
   "cell_type": "code",
   "execution_count": 143,
   "id": "793668ec",
   "metadata": {},
   "outputs": [],
   "source": [
    "# Save the file names to a variable\n",
    "file_names = os.listdir()"
   ]
  },
  {
   "cell_type": "code",
   "execution_count": 144,
   "id": "072efd11",
   "metadata": {},
   "outputs": [],
   "source": [
    "# Import all of the files and add the date\n",
    "\n",
    "# Create a df to save data\n",
    "solar = pd.DataFrame(columns=['file', 'invoice_number', 'invoice_date', \n",
    "                              'amount_total'])\n",
    "\n",
    "# Iterate through the files\n",
    "for file in file_names:\n",
    "    # Open the files using the pdf function\n",
    "    text = extract_text_from_pdf(file)\n",
    "    # Extract the data using the text function\n",
    "    number, date, total = extract_data(text)\n",
    "    \n",
    "    new_row = [file, number, date, total]\n",
    "    solar.loc[len(solar)] = new_row\n",
    "    \n",
    "\n",
    "# Set the date field to a date field\n",
    "solar['invoice_date'] = pd.to_datetime(solar['invoice_date'], format='%d.%m.%Y')\n",
    "# Sort by invoice data\n",
    "solar = solar.sort_values(by = 'invoice_date')"
   ]
  },
  {
   "cell_type": "code",
   "execution_count": 145,
   "id": "299de80b",
   "metadata": {},
   "outputs": [
    {
     "data": {
      "text/html": [
       "<div>\n",
       "<style scoped>\n",
       "    .dataframe tbody tr th:only-of-type {\n",
       "        vertical-align: middle;\n",
       "    }\n",
       "\n",
       "    .dataframe tbody tr th {\n",
       "        vertical-align: top;\n",
       "    }\n",
       "\n",
       "    .dataframe thead th {\n",
       "        text-align: right;\n",
       "    }\n",
       "</style>\n",
       "<table border=\"1\" class=\"dataframe\">\n",
       "  <thead>\n",
       "    <tr style=\"text-align: right;\">\n",
       "      <th></th>\n",
       "      <th>file</th>\n",
       "      <th>invoice_number</th>\n",
       "      <th>invoice_date</th>\n",
       "      <th>amount_total</th>\n",
       "    </tr>\n",
       "  </thead>\n",
       "  <tbody>\n",
       "    <tr>\n",
       "      <th>36</th>\n",
       "      <td>FIT_803B2C15112010_181110_113933.pdf</td>\n",
       "      <td>1900005075</td>\n",
       "      <td>2010-11-16</td>\n",
       "      <td>£258.94</td>\n",
       "    </tr>\n",
       "    <tr>\n",
       "      <th>29</th>\n",
       "      <td>FIT_803B2C24022011_020311_110050.pdf</td>\n",
       "      <td>1900001602</td>\n",
       "      <td>2011-02-24</td>\n",
       "      <td>£135.68</td>\n",
       "    </tr>\n",
       "    <tr>\n",
       "      <th>6</th>\n",
       "      <td>FIT_803B2C10052011_130511_081522.pdf</td>\n",
       "      <td>1900004998</td>\n",
       "      <td>2011-05-12</td>\n",
       "      <td>£54.78</td>\n",
       "    </tr>\n",
       "    <tr>\n",
       "      <th>28</th>\n",
       "      <td>FIT_803B2C11082011_120811_094035.pdf</td>\n",
       "      <td>1900009345</td>\n",
       "      <td>2011-08-11</td>\n",
       "      <td>£303.03</td>\n",
       "    </tr>\n",
       "    <tr>\n",
       "      <th>45</th>\n",
       "      <td>FIT_803B2C21112011_211111_145211.pdf</td>\n",
       "      <td>1900015792</td>\n",
       "      <td>2011-11-21</td>\n",
       "      <td>£338.62</td>\n",
       "    </tr>\n",
       "  </tbody>\n",
       "</table>\n",
       "</div>"
      ],
      "text/plain": [
       "                                    file invoice_number invoice_date  \\\n",
       "36  FIT_803B2C15112010_181110_113933.pdf     1900005075   2010-11-16   \n",
       "29  FIT_803B2C24022011_020311_110050.pdf     1900001602   2011-02-24   \n",
       "6   FIT_803B2C10052011_130511_081522.pdf     1900004998   2011-05-12   \n",
       "28  FIT_803B2C11082011_120811_094035.pdf     1900009345   2011-08-11   \n",
       "45  FIT_803B2C21112011_211111_145211.pdf     1900015792   2011-11-21   \n",
       "\n",
       "   amount_total  \n",
       "36      £258.94  \n",
       "29      £135.68  \n",
       "6        £54.78  \n",
       "28      £303.03  \n",
       "45      £338.62  "
      ]
     },
     "execution_count": 145,
     "metadata": {},
     "output_type": "execute_result"
    }
   ],
   "source": [
    "# Display the top of the df\n",
    "solar.head()"
   ]
  },
  {
   "cell_type": "code",
   "execution_count": null,
   "id": "ed4f16c6",
   "metadata": {},
   "outputs": [],
   "source": []
  }
 ],
 "metadata": {
  "kernelspec": {
   "display_name": "Python 3 (ipykernel)",
   "language": "python",
   "name": "python3"
  },
  "language_info": {
   "codemirror_mode": {
    "name": "ipython",
    "version": 3
   },
   "file_extension": ".py",
   "mimetype": "text/x-python",
   "name": "python",
   "nbconvert_exporter": "python",
   "pygments_lexer": "ipython3",
   "version": "3.9.13"
  }
 },
 "nbformat": 4,
 "nbformat_minor": 5
}
